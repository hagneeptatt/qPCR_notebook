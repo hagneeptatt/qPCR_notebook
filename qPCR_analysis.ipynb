{
 "cells": [
  {
   "cell_type": "markdown",
   "metadata": {},
   "source": [
    "# qPCR Data Analysis Notebook\n"
   ]
  },
  {
   "cell_type": "markdown",
   "metadata": {},
   "source": [
    "- This notebook extracts data from Applied Biosystems qPCR results spreadsheets and proceeds to calculate 2^-dCT and 2^-ddCT.\n",
    "- User input of folder path, target genes, housekeeping gene, and control sample (for 2^-ddCT).\n",
    "- The script filters out outliers that are >1 away from the technical replicate median.\n",
    "- Notebook should run in virtual environment with the packages and package versions stated in the .yaml file."
   ]
  },
  {
   "cell_type": "markdown",
   "metadata": {},
   "source": [
    "## 1. Import libraries and modules"
   ]
  },
  {
   "cell_type": "code",
   "execution_count": 5,
   "metadata": {},
   "outputs": [
    {
     "name": "stdout",
     "output_type": "stream",
     "text": [
      "# packages in environment at /opt/anaconda3/envs/data_analysis:\n",
      "#\n",
      "# Name                    Version                   Build  Channel\n",
      "absl-py                   2.1.0                    pypi_0    pypi\n",
      "appnope                   0.1.4              pyhd8ed1ab_0    conda-forge\n",
      "asttokens                 2.4.1              pyhd8ed1ab_0    conda-forge\n",
      "astunparse                1.6.3                    pypi_0    pypi\n",
      "bzip2                     1.0.8                h6c40b1e_6  \n",
      "ca-certificates           2024.7.4             h8857fd0_0    conda-forge\n",
      "certifi                   2024.7.4                 pypi_0    pypi\n",
      "charset-normalizer        3.3.2                    pypi_0    pypi\n",
      "comm                      0.2.2              pyhd8ed1ab_0    conda-forge\n",
      "contourpy                 1.2.1                    pypi_0    pypi\n",
      "cycler                    0.12.1                   pypi_0    pypi\n",
      "debugpy                   1.8.3           py312h28f332c_0    conda-forge\n",
      "decorator                 5.1.1              pyhd8ed1ab_0    conda-forge\n",
      "exceptiongroup            1.2.2              pyhd8ed1ab_0    conda-forge\n",
      "executing                 2.0.1              pyhd8ed1ab_0    conda-forge\n",
      "expat                     2.6.2                hcec6c5f_0  \n",
      "filelock                  3.15.4                   pypi_0    pypi\n",
      "flatbuffers               24.3.25                  pypi_0    pypi\n",
      "fonttools                 4.53.1                   pypi_0    pypi\n",
      "fsspec                    2024.6.1                 pypi_0    pypi\n",
      "gast                      0.6.0                    pypi_0    pypi\n",
      "google-pasta              0.2.0                    pypi_0    pypi\n",
      "grpcio                    1.65.4                   pypi_0    pypi\n",
      "h5py                      3.11.0                   pypi_0    pypi\n",
      "idna                      3.7                      pypi_0    pypi\n",
      "importlib-metadata        8.2.0              pyha770c72_0    conda-forge\n",
      "importlib_metadata        8.2.0                hd8ed1ab_0    conda-forge\n",
      "ipykernel                 6.29.5             pyh57ce528_0    conda-forge\n",
      "ipython                   8.26.0             pyh707e725_0    conda-forge\n",
      "jedi                      0.19.1             pyhd8ed1ab_0    conda-forge\n",
      "jinja2                    3.1.4                    pypi_0    pypi\n",
      "joblib                    1.4.2                    pypi_0    pypi\n",
      "jupyter_client            8.6.2              pyhd8ed1ab_0    conda-forge\n",
      "jupyter_core              5.7.2           py312hb401068_0    conda-forge\n",
      "keras                     3.4.1                    pypi_0    pypi\n",
      "kiwisolver                1.4.5                    pypi_0    pypi\n",
      "krb5                      1.21.3               h37d8d59_0    conda-forge\n",
      "libclang                  18.1.1                   pypi_0    pypi\n",
      "libcxx                    18.1.8               hef8daea_2    conda-forge\n",
      "libedit                   3.1.20191231         h0678c8f_2    conda-forge\n",
      "libexpat                  2.6.2                h73e2aa4_0    conda-forge\n",
      "libffi                    3.4.4                hecd8cb5_1  \n",
      "libsodium                 1.0.18               hbcb3906_1    conda-forge\n",
      "libsqlite                 3.45.2               h92b6c6a_0    conda-forge\n",
      "libzlib                   1.3.1                h87427d6_1    conda-forge\n",
      "markdown                  3.6                      pypi_0    pypi\n",
      "markdown-it-py            3.0.0                    pypi_0    pypi\n",
      "markupsafe                2.1.5                    pypi_0    pypi\n",
      "matplotlib                3.9.1                    pypi_0    pypi\n",
      "matplotlib-inline         0.1.7              pyhd8ed1ab_0    conda-forge\n",
      "mdurl                     0.1.2                    pypi_0    pypi\n",
      "ml-dtypes                 0.3.2                    pypi_0    pypi\n",
      "mpmath                    1.3.0                    pypi_0    pypi\n",
      "namex                     0.0.8                    pypi_0    pypi\n",
      "ncurses                   6.4                  hcec6c5f_0  \n",
      "nest-asyncio              1.6.0              pyhd8ed1ab_0    conda-forge\n",
      "networkx                  3.3                      pypi_0    pypi\n",
      "numpy                     1.26.4                   pypi_0    pypi\n",
      "openssl                   3.3.1                h87427d6_2    conda-forge\n",
      "opt-einsum                3.3.0                    pypi_0    pypi\n",
      "optree                    0.12.1                   pypi_0    pypi\n",
      "packaging                 24.1               pyhd8ed1ab_0    conda-forge\n",
      "pandas                    2.2.2                    pypi_0    pypi\n",
      "parso                     0.8.4              pyhd8ed1ab_0    conda-forge\n",
      "patsy                     0.5.6                    pypi_0    pypi\n",
      "pexpect                   4.9.0              pyhd8ed1ab_0    conda-forge\n",
      "pickleshare               0.7.5                   py_1003    conda-forge\n",
      "pillow                    10.4.0                   pypi_0    pypi\n",
      "pip                       24.0            py312hecd8cb5_0  \n",
      "platformdirs              4.2.2              pyhd8ed1ab_0    conda-forge\n",
      "plotly                    5.23.0                   pypi_0    pypi\n",
      "prompt-toolkit            3.0.47             pyha770c72_0    conda-forge\n",
      "protobuf                  4.25.4                   pypi_0    pypi\n",
      "psutil                    6.0.0           py312hbd25219_0    conda-forge\n",
      "ptyprocess                0.7.0              pyhd3deb0d_0    conda-forge\n",
      "pure_eval                 0.2.3              pyhd8ed1ab_0    conda-forge\n",
      "pygments                  2.18.0             pyhd8ed1ab_0    conda-forge\n",
      "pyparsing                 3.1.2                    pypi_0    pypi\n",
      "python                    3.12.2          h9f0c242_0_cpython    conda-forge\n",
      "python-dateutil           2.9.0.post0              pypi_0    pypi\n",
      "python_abi                3.12                    4_cp312    conda-forge\n",
      "pytz                      2024.1                   pypi_0    pypi\n",
      "pyzmq                     26.0.3          py312ha04878a_0    conda-forge\n",
      "readline                  8.2                  hca72f7f_0  \n",
      "requests                  2.32.3                   pypi_0    pypi\n",
      "rich                      13.7.1                   pypi_0    pypi\n",
      "scikit-learn              1.5.1                    pypi_0    pypi\n",
      "scipy                     1.14.0                   pypi_0    pypi\n",
      "seaborn                   0.13.2                   pypi_0    pypi\n",
      "setuptools                69.5.1          py312hecd8cb5_0  \n",
      "six                       1.16.0             pyh6c4a22f_0    conda-forge\n",
      "sqlite                    3.45.2               h7461747_0    conda-forge\n",
      "stack_data                0.6.2              pyhd8ed1ab_0    conda-forge\n",
      "statsmodels               0.14.2                   pypi_0    pypi\n",
      "sympy                     1.13.1                   pypi_0    pypi\n",
      "tenacity                  9.0.0                    pypi_0    pypi\n",
      "tensorboard               2.16.2                   pypi_0    pypi\n",
      "tensorboard-data-server   0.7.2                    pypi_0    pypi\n",
      "tensorflow                2.16.2                   pypi_0    pypi\n",
      "termcolor                 2.4.0                    pypi_0    pypi\n",
      "threadpoolctl             3.5.0                    pypi_0    pypi\n",
      "tk                        8.6.13               h1abcd95_1    conda-forge\n",
      "torch                     2.2.2                    pypi_0    pypi\n",
      "tornado                   6.4.1           py312hbd25219_0    conda-forge\n",
      "traitlets                 5.14.3             pyhd8ed1ab_0    conda-forge\n",
      "typing_extensions         4.12.2             pyha770c72_0    conda-forge\n",
      "tzdata                    2024.1                   pypi_0    pypi\n",
      "urllib3                   2.2.2                    pypi_0    pypi\n",
      "wcwidth                   0.2.13             pyhd8ed1ab_0    conda-forge\n",
      "werkzeug                  3.0.3                    pypi_0    pypi\n",
      "wheel                     0.43.0          py312hecd8cb5_0  \n",
      "wrapt                     1.16.0                   pypi_0    pypi\n",
      "xz                        5.4.6                h6c40b1e_1  \n",
      "zeromq                    4.3.5                hde137ed_4    conda-forge\n",
      "zipp                      3.19.2             pyhd8ed1ab_0    conda-forge\n",
      "zlib                      1.3.1                h87427d6_1    conda-forge\n"
     ]
    }
   ],
   "source": [
    "# check what libraries are installed in conda environment\n",
    "!conda list"
   ]
  },
  {
   "cell_type": "code",
   "execution_count": 1,
   "metadata": {},
   "outputs": [
    {
     "name": "stderr",
     "output_type": "stream",
     "text": [
      "Matplotlib is building the font cache; this may take a moment.\n",
      "Fontconfig warning: ignoring UTF-8: not a valid region tag\n"
     ]
    }
   ],
   "source": [
    "from matplotlib import pyplot as plt \n",
    "import pandas as pd\n",
    "import numpy as np\n",
    "import scipy as sp \n",
    "import seaborn as sns\n",
    "import statsmodels.api as sm\n",
    "import statsmodels.formula.api as smf"
   ]
  }
 ],
 "metadata": {
  "kernelspec": {
   "display_name": "Python 3",
   "language": "python",
   "name": "python3"
  },
  "language_info": {
   "codemirror_mode": {
    "name": "ipython",
    "version": 3
   },
   "file_extension": ".py",
   "mimetype": "text/x-python",
   "name": "python",
   "nbconvert_exporter": "python",
   "pygments_lexer": "ipython3",
   "version": "3.12.2"
  }
 },
 "nbformat": 4,
 "nbformat_minor": 2
}
