{
 "cells": [
  {
   "cell_type": "markdown",
   "metadata": {},
   "source": [
    "# qPCR Data Analysis Notebook\n",
    "- This notebook extracts data from Applied Biosystems qPCR results spreadsheets and proceeds to calculate 2^-dCT and 2^-ddCT.\n",
    "- User input of folder path, target genes, housekeeping gene, and control sample (for 2^-ddCT).\n",
    "- The script filters out outliers that are >1 away from the technical replicate median.\n"
   ]
  }
 ],
 "metadata": {
  "language_info": {
   "name": "python"
  }
 },
 "nbformat": 4,
 "nbformat_minor": 2
}
